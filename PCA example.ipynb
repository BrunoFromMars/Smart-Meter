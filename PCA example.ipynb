{
 "cells": [
  {
   "cell_type": "code",
   "execution_count": 1,
   "metadata": {},
   "outputs": [],
   "source": [
    "import numpy as np"
   ]
  },
  {
   "cell_type": "code",
   "execution_count": 2,
   "metadata": {},
   "outputs": [],
   "source": [
    "np.random.seed(1)"
   ]
  },
  {
   "cell_type": "code",
   "execution_count": 3,
   "metadata": {},
   "outputs": [],
   "source": [
    "vec1 = np.array([0, 0, 0])\n",
    "mat1 = np.array([[1, 0, 0], [0, 1, 0], [0, 0, 1]])"
   ]
  },
  {
   "cell_type": "code",
   "execution_count": 4,
   "metadata": {},
   "outputs": [],
   "source": [
    "sample_for_class1 = np.random.multivariate_normal(vec1, mat1, 20).T"
   ]
  },
  {
   "cell_type": "code",
   "execution_count": 5,
   "metadata": {},
   "outputs": [
    {
     "data": {
      "text/plain": [
       "array([[ 1.62434536, -1.07296862,  1.74481176, -0.24937038, -0.3224172 ,\n",
       "        -1.09989127,  0.04221375,  1.14472371,  0.90085595, -0.93576943,\n",
       "        -0.69166075, -0.84520564, -1.11731035,  0.74204416, -0.74715829,\n",
       "        -0.63699565,  0.12015895, -0.35224985, -0.20889423,  0.93110208],\n",
       "       [-0.61175641,  0.86540763, -0.7612069 ,  1.46210794, -0.38405435,\n",
       "        -0.17242821,  0.58281521,  0.90159072, -0.68372786, -0.26788808,\n",
       "        -0.39675353, -0.67124613,  0.2344157 , -0.19183555,  1.6924546 ,\n",
       "         0.19091548,  0.61720311, -1.1425182 ,  0.58662319,  0.28558733],\n",
       "       [-0.52817175, -2.3015387 ,  0.3190391 , -2.06014071,  1.13376944,\n",
       "        -0.87785842, -1.10061918,  0.50249434, -0.12289023,  0.53035547,\n",
       "        -0.6871727 , -0.0126646 ,  1.65980218, -0.88762896,  0.05080775,\n",
       "         2.10025514,  0.30017032, -0.34934272,  0.83898341,  0.88514116]])"
      ]
     },
     "execution_count": 5,
     "metadata": {},
     "output_type": "execute_result"
    }
   ],
   "source": [
    "sample_for_class1\n"
   ]
  },
  {
   "cell_type": "code",
   "execution_count": 6,
   "metadata": {},
   "outputs": [
    {
     "data": {
      "text/plain": [
       "(3, 20)"
      ]
     },
     "execution_count": 6,
     "metadata": {},
     "output_type": "execute_result"
    }
   ],
   "source": [
    "sample_for_class1.shape"
   ]
  },
  {
   "cell_type": "code",
   "execution_count": 7,
   "metadata": {},
   "outputs": [],
   "source": [
    "assert sample_for_class1.shape == (3,20)"
   ]
  },
  {
   "cell_type": "code",
   "execution_count": 8,
   "metadata": {},
   "outputs": [],
   "source": [
    "vec2 = np.array([1, 1, 1])\n",
    "mat2 = np.array([[1, 0, 0], [0, 1, 0], [0, 0, 1]])\n",
    "sample_for_class2 = np.random.multivariate_normal(vec2, mat2, 20).T"
   ]
  },
  {
   "cell_type": "code",
   "execution_count": 9,
   "metadata": {},
   "outputs": [
    {
     "data": {
      "text/plain": [
       "array([[ 0.24560206,  0.70190716,  2.13162939, -0.39649634,  1.16003707,\n",
       "        -1.02220122,  1.23009474,  0.79924193,  1.19829972,  1.37756379,\n",
       "         2.19891788,  0.36126959,  0.65614632,  1.69803203,  1.40349164,\n",
       "         1.16938243,  0.73378149,  1.31515939,  1.35054598, -0.61577235],\n",
       "       [ 2.25286816,  1.48851815,  2.51981682, -0.44411381,  1.87616892,\n",
       "         0.69379599,  1.76201118,  1.18656139,  1.11900865,  1.12182127,\n",
       "         1.18515642,  1.42349435,  1.04359686,  0.55287144,  1.59357852,\n",
       "         1.74055645,  1.03261455,  1.84616065, -0.31228341,  2.12141771],\n",
       "       [ 1.51292982,  0.92442829,  3.18557541,  0.49553414,  1.31563495,\n",
       "         1.82797464,  0.77767186,  1.41005165,  0.32933771,  2.12948391,\n",
       "         0.62471505,  1.07734007,  0.37999916,  2.2245077 , -0.09491185,\n",
       "         0.0462994 , -0.37311732,  0.14048406,  0.96130449,  1.40890054]])"
      ]
     },
     "execution_count": 9,
     "metadata": {},
     "output_type": "execute_result"
    }
   ],
   "source": [
    "sample_for_class2"
   ]
  },
  {
   "cell_type": "code",
   "execution_count": 10,
   "metadata": {},
   "outputs": [
    {
     "data": {
      "text/plain": [
       "(3, 20)"
      ]
     },
     "execution_count": 10,
     "metadata": {},
     "output_type": "execute_result"
    }
   ],
   "source": [
    "sample_for_class2.shape"
   ]
  },
  {
   "cell_type": "code",
   "execution_count": 11,
   "metadata": {},
   "outputs": [],
   "source": [
    "all_data = np.concatenate((sample_for_class1, sample_for_class2), axis=1)"
   ]
  },
  {
   "cell_type": "code",
   "execution_count": 12,
   "metadata": {},
   "outputs": [
    {
     "data": {
      "text/plain": [
       "(3, 40)"
      ]
     },
     "execution_count": 12,
     "metadata": {},
     "output_type": "execute_result"
    }
   ],
   "source": [
    "all_data.shape"
   ]
  },
  {
   "cell_type": "code",
   "execution_count": 13,
   "metadata": {},
   "outputs": [
    {
     "data": {
      "text/plain": [
       "array([[ 1.62434536, -1.07296862,  1.74481176, -0.24937038, -0.3224172 ,\n",
       "        -1.09989127,  0.04221375,  1.14472371,  0.90085595, -0.93576943,\n",
       "        -0.69166075, -0.84520564, -1.11731035,  0.74204416, -0.74715829,\n",
       "        -0.63699565,  0.12015895, -0.35224985, -0.20889423,  0.93110208,\n",
       "         0.24560206,  0.70190716,  2.13162939, -0.39649634,  1.16003707,\n",
       "        -1.02220122,  1.23009474,  0.79924193,  1.19829972,  1.37756379,\n",
       "         2.19891788,  0.36126959,  0.65614632,  1.69803203,  1.40349164,\n",
       "         1.16938243,  0.73378149,  1.31515939,  1.35054598, -0.61577235],\n",
       "       [-0.61175641,  0.86540763, -0.7612069 ,  1.46210794, -0.38405435,\n",
       "        -0.17242821,  0.58281521,  0.90159072, -0.68372786, -0.26788808,\n",
       "        -0.39675353, -0.67124613,  0.2344157 , -0.19183555,  1.6924546 ,\n",
       "         0.19091548,  0.61720311, -1.1425182 ,  0.58662319,  0.28558733,\n",
       "         2.25286816,  1.48851815,  2.51981682, -0.44411381,  1.87616892,\n",
       "         0.69379599,  1.76201118,  1.18656139,  1.11900865,  1.12182127,\n",
       "         1.18515642,  1.42349435,  1.04359686,  0.55287144,  1.59357852,\n",
       "         1.74055645,  1.03261455,  1.84616065, -0.31228341,  2.12141771],\n",
       "       [-0.52817175, -2.3015387 ,  0.3190391 , -2.06014071,  1.13376944,\n",
       "        -0.87785842, -1.10061918,  0.50249434, -0.12289023,  0.53035547,\n",
       "        -0.6871727 , -0.0126646 ,  1.65980218, -0.88762896,  0.05080775,\n",
       "         2.10025514,  0.30017032, -0.34934272,  0.83898341,  0.88514116,\n",
       "         1.51292982,  0.92442829,  3.18557541,  0.49553414,  1.31563495,\n",
       "         1.82797464,  0.77767186,  1.41005165,  0.32933771,  2.12948391,\n",
       "         0.62471505,  1.07734007,  0.37999916,  2.2245077 , -0.09491185,\n",
       "         0.0462994 , -0.37311732,  0.14048406,  0.96130449,  1.40890054]])"
      ]
     },
     "execution_count": 13,
     "metadata": {},
     "output_type": "execute_result"
    }
   ],
   "source": [
    "all_data"
   ]
  },
  {
   "cell_type": "code",
   "execution_count": 14,
   "metadata": {},
   "outputs": [
    {
     "name": "stdout",
     "output_type": "stream",
     "text": [
      "The Mean Vector:\n",
      " [[0.41667492]\n",
      " [0.69848315]\n",
      " [0.49242335]]\n"
     ]
    }
   ],
   "source": [
    "mean_dim1 = np.mean(all_data[0, :])\n",
    "mean_dim2 = np.mean(all_data[1, :])\n",
    "mean_dim3 = np.mean(all_data[2, :])\n",
    "\n",
    "mean_vector = np.array([[mean_dim1], [mean_dim2], [mean_dim3]])\n",
    "\n",
    "print('The Mean Vector:\\n', mean_vector)"
   ]
  },
  {
   "cell_type": "code",
   "execution_count": 15,
   "metadata": {},
   "outputs": [
    {
     "data": {
      "text/plain": [
       "(3, 1)"
      ]
     },
     "execution_count": 15,
     "metadata": {},
     "output_type": "execute_result"
    }
   ],
   "source": [
    "(all_data[:,1].reshape(3,1)).shape"
   ]
  },
  {
   "cell_type": "code",
   "execution_count": 16,
   "metadata": {},
   "outputs": [
    {
     "name": "stdout",
     "output_type": "stream",
     "text": [
      "The Scatter Matrix is :\n",
      " [[38.4878051  10.50787213 11.13746016]\n",
      " [10.50787213 36.23651274 11.96598642]\n",
      " [11.13746016 11.96598642 49.73596619]]\n"
     ]
    }
   ],
   "source": [
    "scatter_matrix = np.zeros((3,3))\n",
    "for i in range(all_data.shape[1]):\n",
    "    scatter_matrix += np.dot((all_data[:, i].reshape(3, 1) - mean_vector),(all_data[:, i].reshape(3, 1) - mean_vector).T)\n",
    "print('The Scatter Matrix is :\\n', scatter_matrix)"
   ]
  },
  {
   "cell_type": "code",
   "execution_count": 17,
   "metadata": {},
   "outputs": [],
   "source": [
    "eig_val, eig_vec = np.linalg.eig(scatter_matrix)"
   ]
  },
  {
   "cell_type": "code",
   "execution_count": 18,
   "metadata": {},
   "outputs": [
    {
     "data": {
      "text/plain": [
       "array([65.16936779, 32.69471296, 26.59620328])"
      ]
     },
     "execution_count": 18,
     "metadata": {},
     "output_type": "execute_result"
    }
   ],
   "source": [
    "eig_val"
   ]
  },
  {
   "cell_type": "code",
   "execution_count": 19,
   "metadata": {},
   "outputs": [
    {
     "data": {
      "text/plain": [
       "array([[-0.49210223, -0.64670286,  0.58276136],\n",
       "       [-0.47927902, -0.35756937, -0.8015209 ],\n",
       "       [-0.72672348,  0.67373552,  0.13399043]])"
      ]
     },
     "execution_count": 19,
     "metadata": {},
     "output_type": "execute_result"
    }
   ],
   "source": [
    "eig_vec"
   ]
  },
  {
   "cell_type": "code",
   "execution_count": 20,
   "metadata": {},
   "outputs": [],
   "source": [
    "for ev in eig_vec:\n",
    "    np.testing.assert_array_almost_equal(1.0, np.linalg.norm(ev))"
   ]
  },
  {
   "cell_type": "code",
   "execution_count": 22,
   "metadata": {},
   "outputs": [],
   "source": [
    "eig_pairs = []\n",
    "for i in range(len(eig_val)):\n",
    "    eig_pairs += [(np.abs(eig_val[i]), eig_vec[:,i])]\n"
   ]
  },
  {
   "cell_type": "code",
   "execution_count": 23,
   "metadata": {},
   "outputs": [
    {
     "data": {
      "text/plain": [
       "[(65.16936779078195, array([-0.49210223, -0.47927902, -0.72672348])),\n",
       " (32.69471296321796, array([-0.64670286, -0.35756937,  0.67373552])),\n",
       " (26.596203282097097, array([ 0.58276136, -0.8015209 ,  0.13399043]))]"
      ]
     },
     "execution_count": 23,
     "metadata": {},
     "output_type": "execute_result"
    }
   ],
   "source": [
    "eig_pairs"
   ]
  },
  {
   "cell_type": "code",
   "execution_count": 24,
   "metadata": {},
   "outputs": [],
   "source": [
    "eig_pairs.sort(key=lambda x: x[0], reverse=True)"
   ]
  },
  {
   "cell_type": "code",
   "execution_count": 25,
   "metadata": {},
   "outputs": [
    {
     "data": {
      "text/plain": [
       "[(65.16936779078195, array([-0.49210223, -0.47927902, -0.72672348])),\n",
       " (32.69471296321796, array([-0.64670286, -0.35756937,  0.67373552])),\n",
       " (26.596203282097097, array([ 0.58276136, -0.8015209 ,  0.13399043]))]"
      ]
     },
     "execution_count": 25,
     "metadata": {},
     "output_type": "execute_result"
    }
   ],
   "source": [
    "eig_pairs"
   ]
  },
  {
   "cell_type": "code",
   "execution_count": 26,
   "metadata": {},
   "outputs": [
    {
     "name": "stdout",
     "output_type": "stream",
     "text": [
      "Matrix W:\n",
      " [[-0.49210223 -0.64670286]\n",
      " [-0.47927902 -0.35756937]\n",
      " [-0.72672348  0.67373552]]\n"
     ]
    }
   ],
   "source": [
    "matrix_w = np.hstack((eig_pairs[0][1].reshape(3,1), eig_pairs[1][1].reshape(3,1)))\n",
    "print('Matrix W:\\n', matrix_w)"
   ]
  },
  {
   "cell_type": "code",
   "execution_count": 30,
   "metadata": {},
   "outputs": [],
   "source": [
    "transformed = np.dot(matrix_w.T,all_data)"
   ]
  },
  {
   "cell_type": "code",
   "execution_count": 31,
   "metadata": {},
   "outputs": [
    {
     "data": {
      "text/plain": [
       "array([[-0.12230714,  1.78582073, -0.72564846,  0.91911067, -0.48120545,\n",
       "         1.26186049,  0.49974121, -1.36060904, -0.02630959,  0.20346559,\n",
       "         1.02990798,  0.74684543, -0.76873682,  0.37184198, -0.48040292,\n",
       "        -1.30433953, -0.57308381,  0.9748035 , -0.78806782, -1.23832629,\n",
       "        -2.30009539, -1.73062935, -4.57170736,  0.04785487, -2.42616804,\n",
       "        -1.15792646, -2.01497976, -1.98672036, -1.36534078, -2.76311357,\n",
       "        -2.1041081 , -1.64296088, -1.09921946, -2.71718701, -1.38545546,\n",
       "        -1.44331476, -0.58485289, -1.63411201, -1.21353834, -1.73760916],\n",
       "       [-1.18757151, -1.16617976, -0.64124251, -1.74952646,  1.10969495,\n",
       "         0.18151348, -0.97722286, -0.72412904, -0.42090149,  1.05827266,\n",
       "         0.12619324,  0.77808138,  1.75701561, -1.00931473, -0.08774954,\n",
       "         1.75869787, -0.09616466,  0.4009659 ,  0.49058694, -0.10791262,\n",
       "         0.05492635, -0.3633537 , -0.13330484,  0.74907576, -0.53466984,\n",
       "         1.6445517 , -0.90160187,  0.00885182, -0.95318056,  0.14270558,\n",
       "        -1.4249294 , -0.01678979, -0.54147105,  0.20291779, -1.54140242,\n",
       "        -1.3474191 , -1.09515232, -1.41599875, -0.11407398,  0.58889408]])"
      ]
     },
     "execution_count": 31,
     "metadata": {},
     "output_type": "execute_result"
    }
   ],
   "source": [
    "transformed"
   ]
  },
  {
   "cell_type": "code",
   "execution_count": 32,
   "metadata": {},
   "outputs": [
    {
     "data": {
      "text/plain": [
       "(2, 40)"
      ]
     },
     "execution_count": 32,
     "metadata": {},
     "output_type": "execute_result"
    }
   ],
   "source": [
    "transformed.shape"
   ]
  },
  {
   "cell_type": "code",
   "execution_count": null,
   "metadata": {},
   "outputs": [],
   "source": []
  }
 ],
 "metadata": {
  "kernelspec": {
   "display_name": "Python 3",
   "language": "python",
   "name": "python3"
  },
  "language_info": {
   "codemirror_mode": {
    "name": "ipython",
    "version": 3
   },
   "file_extension": ".py",
   "mimetype": "text/x-python",
   "name": "python",
   "nbconvert_exporter": "python",
   "pygments_lexer": "ipython3",
   "version": "3.6.6"
  }
 },
 "nbformat": 4,
 "nbformat_minor": 2
}
